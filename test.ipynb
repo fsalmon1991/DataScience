{
 "cells": [
  {
   "cell_type": "code",
   "execution_count": 6,
   "metadata": {},
   "outputs": [],
   "source": [
    "import numpy as np\n",
    "import matplotlib.pyplot as plt"
   ]
  },
  {
   "cell_type": "code",
   "execution_count": null,
   "metadata": {},
   "outputs": [],
   "source": [
    "a = np.array([[1,2,3],[4,5,6]])\n",
    "print(a.ndim)\n",
    "\n",
    "b = np.array([[[[1,2,3],[4,5,6]],[[1,2,3],[4,5,6]]]])\n",
    "print(b.ndim) \n",
    "\n",
    "c = np.array([[[1,2,3],[4,5,6],[0,0,-1]],[[-1,-2,-3],[-4,-5,-6],[0,0,1]]])\n",
    "print(c.ndim)\n",
    "print(c.shape)\n",
    "\n",
    "A = np.arange(100)\n",
    "print(A) \n",
    "print(range(10))\n",
    "print(list(range(10)))\n",
    "\n",
    "A = np.random.permutation(np.arange(10))\n",
    "print(A)  \n",
    "\n",
    "v = np.random.randint(20,30)\n",
    "print(v)\n",
    "\n",
    "A = np.random.rand(1000)\n",
    "print(A)\n",
    "\n",
    "plt.hist(A)\n",
    "\n",
    "c = np.random.rand(2,3,4,2)\n"
   ]
  },
  {
   "cell_type": "code",
   "execution_count": null,
   "metadata": {},
   "outputs": [],
   "source": [
    "d = np.arange(1000)\n",
    "print(d)\n",
    "print(\"d reshaped\")\n",
    "e = d.reshape(4,5,5,10)\n",
    "print(e)\n",
    " "
   ]
  }
 ],
 "metadata": {
  "kernelspec": {
   "display_name": "dtenv",
   "language": "python",
   "name": "python3"
  },
  "language_info": {
   "codemirror_mode": {
    "name": "ipython",
    "version": 3
   },
   "file_extension": ".py",
   "mimetype": "text/x-python",
   "name": "python",
   "nbconvert_exporter": "python",
   "pygments_lexer": "ipython3",
   "version": "3.11.4"
  },
  "orig_nbformat": 4
 },
 "nbformat": 4,
 "nbformat_minor": 2
}
